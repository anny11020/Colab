{
  "nbformat": 4,
  "nbformat_minor": 0,
  "metadata": {
    "colab": {
      "provenance": [],
      "collapsed_sections": [
        "PexuF7zQHicP",
        "xRNIqH2BWrqb"
      ],
      "include_colab_link": true
    },
    "kernelspec": {
      "name": "python3",
      "display_name": "Python 3"
    }
  },
  "cells": [
    {
      "cell_type": "markdown",
      "metadata": {
        "id": "view-in-github",
        "colab_type": "text"
      },
      "source": [
        "<a href=\"https://colab.research.google.com/github/anny11020/Colab/blob/main/%E7%A4%BE%E6%9C%83%E7%B6%B2%E8%B7%AF%E5%88%86%E6%9E%90(SNA).ipynb\" target=\"_parent\"><img src=\"https://colab.research.google.com/assets/colab-badge.svg\" alt=\"Open In Colab\"/></a>"
      ]
    },
    {
      "cell_type": "markdown",
      "metadata": {
        "id": "PexuF7zQHicP"
      },
      "source": [
        "# **PART0**"
      ]
    },
    {
      "cell_type": "markdown",
      "metadata": {
        "id": "KF_tnJRgFela"
      },
      "source": [
        "## 1. import 需要用到的函式庫"
      ]
    },
    {
      "cell_type": "code",
      "metadata": {
        "id": "SlINQXW9PlnK"
      },
      "source": [
        "import pandas as pd"
      ],
      "execution_count": null,
      "outputs": []
    },
    {
      "cell_type": "markdown",
      "metadata": {
        "id": "OxXasNvCHQzr"
      },
      "source": [
        "## 2. 先把 algorithm 列舉"
      ]
    },
    {
      "cell_type": "code",
      "metadata": {
        "id": "Al4AGwVAX05w"
      },
      "source": [
        "from enum import Enum\n",
        "class emode(Enum):\n",
        "  jaccard = 1\n",
        "  resource = 2\n",
        "  adamic = 3\n",
        "  preferencetial = 4"
      ],
      "execution_count": null,
      "outputs": []
    },
    {
      "cell_type": "markdown",
      "metadata": {
        "id": "xRNIqH2BWrqb"
      },
      "source": [
        "# **PARTI**\n",
        "\n"
      ]
    },
    {
      "cell_type": "markdown",
      "metadata": {
        "id": "eLPDCEwiEvpF"
      },
      "source": [
        "## 3. 若無安裝 networkx 需先安裝 並載入"
      ]
    },
    {
      "cell_type": "code",
      "metadata": {
        "id": "hoWgAEDZPoiS"
      },
      "source": [
        "#pip install networkx\n",
        "import networkx as nx"
      ],
      "execution_count": null,
      "outputs": []
    },
    {
      "cell_type": "markdown",
      "metadata": {
        "id": "i6m3Brj1GAWI"
      },
      "source": [
        "## 4. 載入 train data"
      ]
    },
    {
      "cell_type": "code",
      "metadata": {
        "id": "yosDQRdYOrdn",
        "outputId": "c92a5215-20ee-4b27-9da9-4228bd9ad448",
        "colab": {
          "base_uri": "https://localhost:8080/",
          "height": 72
        }
      },
      "source": [
        "fpath = \"/content/drive/My Drive/NEW/NTUST/課程/碩一下/社群/HW1/data_train_edge.csv\"\n",
        "train_csv = pd.read_csv(fpath, sep='\\,')"
      ],
      "execution_count": null,
      "outputs": [
        {
          "output_type": "stream",
          "text": [
            "/usr/local/lib/python3.6/dist-packages/ipykernel_launcher.py:2: ParserWarning: Falling back to the 'python' engine because the 'c' engine does not support regex separators (separators > 1 char and different from '\\s+' are interpreted as regex); you can avoid this warning by specifying engine='python'.\n",
            "  \n"
          ],
          "name": "stderr"
        }
      ]
    },
    {
      "cell_type": "markdown",
      "metadata": {
        "id": "32cy68SgGSK0"
      },
      "source": [
        "## 5. 建立 Graph"
      ]
    },
    {
      "cell_type": "code",
      "metadata": {
        "id": "K3zXlQjkPFaq"
      },
      "source": [
        "G_train = nx.Graph()\n",
        "G_train.clear()\n",
        "for i in range(0, len(train_csv)):\n",
        "  node1 = train_csv['node1'][i]\n",
        "  node2 = train_csv['node2'][i]\n",
        "  G_train.add_edge(node1,node2)"
      ],
      "execution_count": null,
      "outputs": []
    },
    {
      "cell_type": "markdown",
      "metadata": {
        "id": "E4TLtbiOGYQR"
      },
      "source": [
        "## 6. 載入要 predict 的資料"
      ]
    },
    {
      "cell_type": "code",
      "metadata": {
        "id": "r21HjdlTRIDD",
        "outputId": "5a25f7d1-4c5e-4141-b8f6-ede565eea4e4",
        "colab": {
          "base_uri": "https://localhost:8080/",
          "height": 72
        }
      },
      "source": [
        "fpath = \"/content/drive/My Drive/NEW/NTUST/課程/碩一下/社群/HW1/predict.csv\"\n",
        "test_csv = pd.read_csv(fpath, sep='\\,')"
      ],
      "execution_count": null,
      "outputs": [
        {
          "output_type": "stream",
          "text": [
            "/usr/local/lib/python3.6/dist-packages/ipykernel_launcher.py:2: ParserWarning: Falling back to the 'python' engine because the 'c' engine does not support regex separators (separators > 1 char and different from '\\s+' are interpreted as regex); you can avoid this warning by specifying engine='python'.\n",
            "  \n"
          ],
          "name": "stderr"
        }
      ]
    },
    {
      "cell_type": "markdown",
      "metadata": {
        "id": "gTgze4ImIHyt"
      },
      "source": [
        "##7. 整理 function"
      ]
    },
    {
      "cell_type": "code",
      "metadata": {
        "id": "Ai6KLPsjV9xi"
      },
      "source": [
        "def Choose_Mode(emode,node1,node2):\n",
        "  if emode == emode.jaccard:\n",
        "    return nx.jaccard_coefficient(G_train,[(node1,node2)])\n",
        "  elif emode == emode.resource:\n",
        "    return nx.resource_allocation_index(G_train,[(node1,node2)])\n",
        "  elif emode == emode.adamic:\n",
        "    return nx.adamic_adar_index(G_train,[(node1,node2)])\n",
        "  elif emode == emode.preferencetial:\n",
        "    return nx.preferential_attachment(G_train,[(node1,node2)])"
      ],
      "execution_count": null,
      "outputs": []
    },
    {
      "cell_type": "markdown",
      "metadata": {
        "id": "E95WL6q8J6f5"
      },
      "source": [
        "## 8. 執行所有的 algorithm"
      ]
    },
    {
      "cell_type": "code",
      "metadata": {
        "id": "gqO7sqiXwVfd",
        "outputId": "e4479299-d568-4dc9-cf30-1806ef3369cf",
        "colab": {
          "base_uri": "https://localhost:8080/",
          "height": 35
        }
      },
      "source": [
        "dict_score = {}\n",
        "dict_score.clear()\n",
        "for mode in emode:\n",
        "  test_score = {}\n",
        "  test_score.clear()\n",
        "  for i in range(0, len(test_csv)):\n",
        "    node1 = test_csv['node1'][i]\n",
        "    node2 = test_csv['node2'][i]\n",
        "    preds = Choose_Mode(mode,node1,node2)\n",
        "    if G_train.has_node(node1) and G_train.has_node(node2):\n",
        "      if node1 == node2:\n",
        "        test_score[i] = 1\n",
        "      else:\n",
        "        for u, v, p in preds:\n",
        "          test_score[i] = p\n",
        "    else:\n",
        "      test_score[i] = 0\n",
        "  dict_score[mode] = test_score\n",
        "print(len(dict_score))"
      ],
      "execution_count": null,
      "outputs": [
        {
          "output_type": "stream",
          "text": [
            "4\n"
          ],
          "name": "stdout"
        }
      ]
    },
    {
      "cell_type": "markdown",
      "metadata": {
        "id": "FsJZ8UQ0KYYl"
      },
      "source": [
        "## 9. 存檔"
      ]
    },
    {
      "cell_type": "code",
      "metadata": {
        "id": "VhllUqk7Wu3c"
      },
      "source": [
        "import csv\n",
        "for mode in dict_score:\n",
        "  with open('/content/drive/My Drive/NEW/NTUST/課程/碩一下/社群/HW1/整理後/V1/result_'+mode.name+'.csv', 'w') as csvfile:\n",
        "    fieldnames = ['predict_nodepair_id', 'ans']\n",
        "    writer = csv.DictWriter(csvfile, fieldnames=fieldnames)\n",
        "    writer.writeheader()\n",
        "    for key in dict_score[mode].keys():\n",
        "        csvfile.write(\"%s,%s\\n\"%(key,dict_score[mode][key]))"
      ],
      "execution_count": null,
      "outputs": []
    },
    {
      "cell_type": "markdown",
      "metadata": {
        "id": "-vX89SOnWoDJ"
      },
      "source": [
        "# **PARTII**"
      ]
    },
    {
      "cell_type": "markdown",
      "metadata": {
        "id": "yDtBXuBwKea6"
      },
      "source": [
        "## 10. 讀檔"
      ]
    },
    {
      "cell_type": "code",
      "metadata": {
        "id": "1EV6EwXzWu_Q",
        "outputId": "3e582de8-57a5-49aa-8f6f-70895ff21603",
        "colab": {
          "base_uri": "https://localhost:8080/",
          "height": 72
        }
      },
      "source": [
        "mode = emode.resource\n",
        "fpath = '/content/drive/My Drive/NEW/NTUST/課程/碩一下/社群/HW1/整理後/V1/result_'+mode.name+'.csv'\n",
        "result_csv = pd.read_csv(fpath, sep='\\,')"
      ],
      "execution_count": null,
      "outputs": [
        {
          "output_type": "stream",
          "text": [
            "/usr/local/lib/python3.6/dist-packages/ipykernel_launcher.py:3: ParserWarning: Falling back to the 'python' engine because the 'c' engine does not support regex separators (separators > 1 char and different from '\\s+' are interpreted as regex); you can avoid this warning by specifying engine='python'.\n",
            "  This is separate from the ipykernel package so we can avoid doing imports until\n"
          ],
          "name": "stderr"
        }
      ]
    },
    {
      "cell_type": "markdown",
      "metadata": {
        "id": "9juAX1srW50e"
      },
      "source": [
        "## 11. 存所有答案"
      ]
    },
    {
      "cell_type": "code",
      "metadata": {
        "id": "AXv8dk6lXlX5"
      },
      "source": [
        "all_ans = []\n",
        "all_ans.clear()\n",
        "for i in range(0, len(result_csv)):\n",
        "  all_ans.append(result_csv['ans'][i])"
      ],
      "execution_count": null,
      "outputs": []
    },
    {
      "cell_type": "code",
      "metadata": {
        "id": "vFan7u7Dl7vy"
      },
      "source": [
        "import numpy as np"
      ],
      "execution_count": null,
      "outputs": []
    },
    {
      "cell_type": "markdown",
      "metadata": {
        "id": "G_vuu-K-XGde"
      },
      "source": [
        "## 12. 依據中位數，將分數存至字典"
      ]
    },
    {
      "cell_type": "code",
      "metadata": {
        "id": "Hf6j7xNLXqa-",
        "outputId": "5b7506e7-b3cb-4196-89a9-6414344be156",
        "colab": {
          "base_uri": "https://localhost:8080/",
          "height": 35
        }
      },
      "source": [
        "submission_med = {}\n",
        "standard = np.median(all_ans)\n",
        "print(standard)\n",
        "\n",
        "submission_med.clear()\n",
        "for i in range(0, len(result_csv)):\n",
        "  if(result_csv['ans'][i] >= standard):\n",
        "    submission_med[i] = 1\n",
        "  else:\n",
        "    submission_med[i] = 0"
      ],
      "execution_count": null,
      "outputs": [
        {
          "output_type": "stream",
          "text": [
            "0.05208333333333333\n"
          ],
          "name": "stdout"
        }
      ]
    },
    {
      "cell_type": "markdown",
      "metadata": {
        "id": "_jQE20e-l-60"
      },
      "source": [
        "## 13. 依據平均數，將分數存至字典"
      ]
    },
    {
      "cell_type": "code",
      "metadata": {
        "id": "vVjdnkmrXy0a",
        "outputId": "f729c7cc-f02d-4b42-92c4-36da5425e79d",
        "colab": {
          "base_uri": "https://localhost:8080/",
          "height": 35
        }
      },
      "source": [
        "\"\"\"\n",
        "submission_avg = {}\n",
        "standard = np.average(all_ans)\n",
        "print(standard)\n",
        "\n",
        "submission_avg.clear()\n",
        "for i in range(0, len(result_csv)):\n",
        "  if(result_csv['ans'][i] >= standard):\n",
        "    submission_avg[i] = 1\n",
        "  else:\n",
        "    submission_avg[i] = 0\n",
        "\"\"\""
      ],
      "execution_count": null,
      "outputs": [
        {
          "output_type": "stream",
          "text": [
            "0.17775979493319383\n"
          ],
          "name": "stdout"
        }
      ]
    },
    {
      "cell_type": "markdown",
      "metadata": {
        "id": "_-p2e_FOZiwD"
      },
      "source": [
        "## 14. 將結果存至csv"
      ]
    },
    {
      "cell_type": "code",
      "metadata": {
        "id": "LhWWX_7zYP6S",
        "outputId": "63d77760-7045-4085-a11f-42ef66d4cb23",
        "colab": {
          "base_uri": "https://localhost:8080/",
          "height": 55
        }
      },
      "source": [
        "import csv\n",
        "fieldnames = ['predict_nodepair_id', 'ans']\n",
        "with open('/content/drive/My Drive/NEW/NTUST/課程/碩一下/社群/HW1/整理後/V1/submission_'+mode.name+'_med.csv', 'w') as csvfile:\n",
        "  writer = csv.DictWriter(csvfile, fieldnames=fieldnames)\n",
        "  writer.writeheader()\n",
        "  for key in submission_med.keys():\n",
        "      csvfile.write(\"%s,%s\\n\"%(key,submission_med[key]))\n",
        "\"\"\"\n",
        "with open('/content/drive/My Drive/NEW/NTUST/課程/碩一下/社群/HW1/整理後/V1/submission_'+mode.name+'_avg.csv', 'w') as csvfile:\n",
        "  writer = csv.DictWriter(csvfile, fieldnames=fieldnames)\n",
        "  writer.writeheader()\n",
        "  for key in submission_avg.keys():\n",
        "      csvfile.write(\"%s,%s\\n\"%(key,submission_avg[key]))\n",
        "\"\"\""
      ],
      "execution_count": null,
      "outputs": [
        {
          "output_type": "execute_result",
          "data": {
            "text/plain": [
              "'\\nwith open(\\'/content/drive/My Drive/NEW/NTUST/課程/碩一下/社群/HW1/整理後/submission_\\'+mode.name+\\'_avg.csv\\', \\'w\\') as csvfile:\\n  writer = csv.DictWriter(csvfile, fieldnames=fieldnames)\\n  writer.writeheader()\\n  for key in submission_avg.keys():\\n      csvfile.write(\"%s,%s\\n\"%(key,submission_avg[key]))\\n'"
            ]
          },
          "metadata": {
            "tags": []
          },
          "execution_count": 8
        }
      ]
    },
    {
      "cell_type": "markdown",
      "metadata": {
        "id": "TzLuE6AzLG6l"
      },
      "source": [
        "**Result2**\n",
        "* resource\n",
        "  med-equal: 0.89687"
      ]
    },
    {
      "cell_type": "markdown",
      "metadata": {
        "id": "720q4aoXoD9-"
      },
      "source": [
        "**Result1**\n",
        "* jaccard\n",
        "  - med: 0.86722\n",
        "  - avg: 0.81948\n",
        "\n",
        "* resource\n",
        "  - med: 0.89622\n",
        "  - avg: 0.82518\n",
        "\n",
        "* adamic\n",
        "  - med: 0.89247\n",
        "  - avg: 0.82290\n",
        "\n",
        "* preferencetial\n",
        "  - med: 0.78413\n",
        "  - avg: 0.71896\n",
        "\n"
      ]
    }
  ]
}