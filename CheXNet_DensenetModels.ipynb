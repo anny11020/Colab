{
  "nbformat": 4,
  "nbformat_minor": 0,
  "metadata": {
    "colab": {
      "provenance": [],
      "include_colab_link": true
    },
    "kernelspec": {
      "name": "python3",
      "display_name": "Python 3"
    }
  },
  "cells": [
    {
      "cell_type": "markdown",
      "metadata": {
        "id": "view-in-github",
        "colab_type": "text"
      },
      "source": [
        "<a href=\"https://colab.research.google.com/github/anny11020/Colab/blob/main/CheXNet_DensenetModels.ipynb\" target=\"_parent\"><img src=\"https://colab.research.google.com/assets/colab-badge.svg\" alt=\"Open In Colab\"/></a>"
      ]
    },
    {
      "cell_type": "code",
      "metadata": {
        "id": "IQhllT1ETNn_"
      },
      "source": [
        "import os\n",
        "import numpy as np\n",
        "\n",
        "import torch\n",
        "import torch.nn as nn\n",
        "import torch.backends.cudnn as cudnn\n",
        "\n",
        "import torchvision.transforms as transforms\n",
        "from torch.utils.data import DataLoader\n",
        "from sklearn.metrics import roc_auc_score\n",
        "\n",
        "import torchvision"
      ],
      "execution_count": null,
      "outputs": []
    },
    {
      "cell_type": "code",
      "metadata": {
        "id": "6EOjdjYETQFf"
      },
      "source": [
        "class DenseNet121(nn.Module):\n",
        "\n",
        "    def __init__(self, classCount, isTrained):\n",
        "\n",
        "        super(DenseNet121, self).__init__()\n",
        "\n",
        "        self.densenet121 = torchvision.models.densenet121(pretrained=isTrained)\n",
        "\n",
        "        kernelCount = self.densenet121.classifier.in_features\n",
        "\n",
        "        self.densenet121.classifier = nn.Sequential(nn.Linear(kernelCount, classCount), nn.Sigmoid())\n",
        "\n",
        "    def forward(self, x):\n",
        "        x = self.densenet121(x)\n",
        "        return x\n",
        "\n",
        "class DenseNet169(nn.Module):\n",
        "\n",
        "    def __init__(self, classCount, isTrained):\n",
        "\n",
        "        super(DenseNet169, self).__init__()\n",
        "\n",
        "        self.densenet169 = torchvision.models.densenet169(pretrained=isTrained)\n",
        "\n",
        "        kernelCount = self.densenet169.classifier.in_features\n",
        "\n",
        "        self.densenet169.classifier = nn.Sequential(nn.Linear(kernelCount, classCount), nn.Sigmoid())\n",
        "\n",
        "    def forward (self, x):\n",
        "        x = self.densenet169(x)\n",
        "        return x\n",
        "\n",
        "class DenseNet201(nn.Module):\n",
        "\n",
        "    def __init__ (self, classCount, isTrained):\n",
        "\n",
        "        super(DenseNet201, self).__init__()\n",
        "\n",
        "        self.densenet201 = torchvision.models.densenet201(pretrained=isTrained)\n",
        "\n",
        "        kernelCount = self.densenet201.classifier.in_features\n",
        "\n",
        "        self.densenet201.classifier = nn.Sequential(nn.Linear(kernelCount, classCount), nn.Sigmoid())\n",
        "\n",
        "    def forward (self, x):\n",
        "        x = self.densenet201(x)\n",
        "        return x"
      ],
      "execution_count": null,
      "outputs": []
    }
  ]
}