{
  "nbformat": 4,
  "nbformat_minor": 0,
  "metadata": {
    "colab": {
      "provenance": [],
      "include_colab_link": true
    },
    "kernelspec": {
      "name": "python3",
      "display_name": "Python 3"
    }
  },
  "cells": [
    {
      "cell_type": "markdown",
      "metadata": {
        "id": "view-in-github",
        "colab_type": "text"
      },
      "source": [
        "<a href=\"https://colab.research.google.com/github/anny11020/Colab/blob/main/CheXNet_DatasetGenerator.ipynb\" target=\"_parent\"><img src=\"https://colab.research.google.com/assets/colab-badge.svg\" alt=\"Open In Colab\"/></a>"
      ]
    },
    {
      "cell_type": "code",
      "metadata": {
        "id": "bRs9k6ejWuiu"
      },
      "source": [
        "import os\n",
        "import numpy as np\n",
        "from PIL import Image\n",
        "\n",
        "import torch\n",
        "from torch.utils.data import Dataset"
      ],
      "execution_count": null,
      "outputs": []
    },
    {
      "cell_type": "code",
      "metadata": {
        "id": "-POtaFrKWqJd"
      },
      "source": [
        "class DatasetGenerator (Dataset):\n",
        "\n",
        "    #--------------------------------------------------------------------------------\n",
        "\n",
        "    def __init__ (self, pathImageDirectory, pathDatasetFile, transform):\n",
        "\n",
        "        self.listImagePaths = []\n",
        "        self.listImageLabels = []\n",
        "        self.transform = transform\n",
        "\n",
        "        #---- Open file, get image paths and labels\n",
        "\n",
        "        fileDescriptor = open(pathDatasetFile, \"r\")\n",
        "\n",
        "        #---- get into the loop\n",
        "        line = True\n",
        "\n",
        "        while line:\n",
        "\n",
        "            line = fileDescriptor.readline()\n",
        "\n",
        "            #--- if not empty\n",
        "            if line:\n",
        "\n",
        "                lineItems = line.split()\n",
        "\n",
        "                imagePath = os.path.join(pathImageDirectory, lineItems[0])\n",
        "                imageLabel = lineItems[1:]\n",
        "                imageLabel = [int(i) for i in imageLabel]\n",
        "\n",
        "                self.listImagePaths.append(imagePath)\n",
        "                self.listImageLabels.append(imageLabel)\n",
        "\n",
        "        fileDescriptor.close()\n",
        "\n",
        "    #--------------------------------------------------------------------------------\n",
        "\n",
        "    def __getitem__(self, index):\n",
        "\n",
        "        imagePath = self.listImagePaths[index]\n",
        "\n",
        "        imageData = Image.open(imagePath).convert('RGB')\n",
        "        imageLabel= torch.FloatTensor(self.listImageLabels[index])\n",
        "\n",
        "        if self.transform != None: imageData = self.transform(imageData)\n",
        "\n",
        "        return imageData, imageLabel\n",
        "\n",
        "    #--------------------------------------------------------------------------------\n",
        "\n",
        "    def __len__(self):\n",
        "        return len(self.listImagePaths)"
      ],
      "execution_count": null,
      "outputs": []
    },
    {
      "cell_type": "code",
      "metadata": {
        "id": "XWA7tkfnZGil"
      },
      "source": [],
      "execution_count": null,
      "outputs": []
    }
  ]
}