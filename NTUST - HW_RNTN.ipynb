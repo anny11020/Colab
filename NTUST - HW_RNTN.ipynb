{
  "nbformat": 4,
  "nbformat_minor": 0,
  "metadata": {
    "kernelspec": {
      "name": "python2",
      "display_name": "Python 2"
    },
    "language_info": {
      "codemirror_mode": {
        "name": "ipython",
        "version": 2
      },
      "file_extension": ".py",
      "mimetype": "text/x-python",
      "name": "python",
      "nbconvert_exporter": "python",
      "pygments_lexer": "ipython2",
      "version": "2.7.11"
    },
    "colab": {
      "provenance": [],
      "include_colab_link": true
    },
    "accelerator": "TPU"
  },
  "cells": [
    {
      "cell_type": "markdown",
      "metadata": {
        "id": "view-in-github",
        "colab_type": "text"
      },
      "source": [
        "<a href=\"https://colab.research.google.com/github/anny11020/Colab/blob/main/NTUST%20-%20HW_RNTN.ipynb\" target=\"_parent\"><img src=\"https://colab.research.google.com/assets/colab-badge.svg\" alt=\"Open In Colab\"/></a>"
      ]
    },
    {
      "cell_type": "code",
      "metadata": {
        "id": "dZLq7CHhRWMA",
        "outputId": "ee07f32b-dcfb-4a80-9328-a2e0ca225bf1",
        "colab": {
          "base_uri": "https://localhost:8080/",
          "height": 122
        }
      },
      "source": [
        "from google.colab import drive\n",
        "drive.mount('/content/drive')"
      ],
      "execution_count": null,
      "outputs": [
        {
          "output_type": "stream",
          "text": [
            "Go to this URL in a browser: https://accounts.google.com/o/oauth2/auth?client_id=947318989803-6bn6qk8qdgf4n4g3pfee6491hc0brc4i.apps.googleusercontent.com&redirect_uri=urn%3aietf%3awg%3aoauth%3a2.0%3aoob&response_type=code&scope=email%20https%3a%2f%2fwww.googleapis.com%2fauth%2fdocs.test%20https%3a%2f%2fwww.googleapis.com%2fauth%2fdrive%20https%3a%2f%2fwww.googleapis.com%2fauth%2fdrive.photos.readonly%20https%3a%2f%2fwww.googleapis.com%2fauth%2fpeopleapi.readonly\n",
            "\n",
            "Enter your authorization code:\n",
            "··········\n",
            "Mounted at /content/drive\n"
          ],
          "name": "stdout"
        }
      ]
    },
    {
      "cell_type": "code",
      "metadata": {
        "id": "ThzX1hQQRbfG",
        "outputId": "0717abc7-839e-4180-9292-d1ace8f48b0d",
        "colab": {
          "base_uri": "https://localhost:8080/",
          "height": 68
        }
      },
      "source": [
        "import os\n",
        "os.chdir(\"/content/drive/My Drive/NEW/台科/課程/碩一上/ML/實作/RNTN-master\")\n",
        "!ls"
      ],
      "execution_count": null,
      "outputs": [
        {
          "output_type": "stream",
          "text": [
            " parser.py    resources      'RNTN Playbook.ipynb'   save1.pkl\n",
            " parser.pyc   rntn_core.py    rntn.py\t\t     save2.pkl\n",
            " README.md    rntn_core.pyc   rntn.pyc\n"
          ],
          "name": "stdout"
        }
      ]
    },
    {
      "cell_type": "code",
      "metadata": {
        "id": "0-CixZRaRcYD"
      },
      "source": [
        "from rntn import RNTNModel"
      ],
      "execution_count": null,
      "outputs": []
    },
    {
      "cell_type": "code",
      "metadata": {
        "id": "pQZxqP9WRWMG"
      },
      "source": [
        "model = RNTNModel(vocab_file='resources/vocabulary.csv', wvec_dim=30, num_classes=5)"
      ],
      "execution_count": null,
      "outputs": []
    },
    {
      "cell_type": "code",
      "metadata": {
        "id": "E2oSMB5QRWMJ",
        "outputId": "bf2a6e2b-22ac-40da-b654-841c31a21c2e",
        "colab": {
          "base_uri": "https://localhost:8080/",
          "height": 1000
        }
      },
      "source": [
        "model.train(train_file='resources/trees/train.txt', step_size=0.01, lamda=0.001, epsilon=1e-8, num_epoch=100, batch_size=1)"
      ],
      "execution_count": null,
      "outputs": [
        {
          "output_type": "stream",
          "text": [
            "Epoch 1 Accuracy: 0.661914422941\n",
            "Epoch 2 Accuracy: 0.652549711867\n",
            "Epoch 3 Accuracy: 0.633652406598\n",
            "Epoch 4 Accuracy: 0.630175269404\n",
            "Epoch 5 Accuracy: 0.619490567563\n",
            "Epoch 6 Accuracy: 0.605896276324\n",
            "Epoch 7 Accuracy: 0.606127960716\n",
            "Epoch 8 Accuracy: 0.60696321036\n",
            "Epoch 9 Accuracy: 0.588717591579\n",
            "Epoch 10 Accuracy: 0.588415598547\n",
            "Epoch 11 Accuracy: 0.577786648016\n",
            "Epoch 12 Accuracy: 0.532996758657\n",
            "Epoch 13 Accuracy: 0.544864790847\n",
            "Epoch 14 Accuracy: 0.612402263274\n",
            "Epoch 15 Accuracy: 0.601592652611\n",
            "Epoch 16 Accuracy: 0.591541188193\n",
            "Epoch 17 Accuracy: 0.596416748391\n",
            "Epoch 18 Accuracy: 0.559141547872\n",
            "Epoch 19 Accuracy: 0.584146064634\n",
            "Epoch 20 Accuracy: 0.606744290775\n",
            "Epoch 21 Accuracy: 0.625703559752\n",
            "Epoch 22 Accuracy: 0.583948454579\n",
            "Epoch 23 Accuracy: 0.609334241305\n",
            "Epoch 24 Accuracy: 0.645786024257\n",
            "Epoch 25 Accuracy: 0.622263200227\n",
            "Epoch 26 Accuracy: 0.618452969033\n",
            "Epoch 27 Accuracy: 0.599638163141\n",
            "Epoch 28 Accuracy: 0.619792152949\n",
            "Epoch 29 Accuracy: 0.636178791363\n",
            "Epoch 30 Accuracy: 0.612997601691\n",
            "Epoch 31 Accuracy: 0.627046070111\n",
            "Epoch 32 Accuracy: 0.600464330943\n",
            "Epoch 33 Accuracy: 0.634876679104\n",
            "Epoch 34 Accuracy: 0.64840922776\n",
            "Epoch 35 Accuracy: 0.597083050918\n",
            "Epoch 36 Accuracy: 0.613081374404\n",
            "Epoch 37 Accuracy: 0.613071099715\n",
            "Epoch 38 Accuracy: 0.613975085159\n",
            "Epoch 39 Accuracy: 0.628428573793\n",
            "Epoch 40 Accuracy: 0.637957083816\n",
            "Epoch 41 Accuracy: 0.63004373303\n",
            "Epoch 42 Accuracy: 0.635216841145\n",
            "Epoch 43 Accuracy: 0.639657801147\n",
            "Epoch 44 Accuracy: 0.646077592543\n",
            "Epoch 45 Accuracy: 0.655812406917\n",
            "Epoch 46 Accuracy: 0.622775034261\n",
            "Epoch 47 Accuracy: 0.627082470736\n",
            "Epoch 48 Accuracy: 0.644958253791\n",
            "Epoch 49 Accuracy: 0.648289002033\n",
            "Epoch 50 Accuracy: 0.637179597646\n",
            "Epoch 51 Accuracy: 0.610652273692\n",
            "Epoch 52 Accuracy: 0.643139744694\n",
            "Epoch 53 Accuracy: 0.647624513231\n",
            "Epoch 54 Accuracy: 0.639618298176\n",
            "Epoch 55 Accuracy: 0.601951044827\n",
            "Epoch 56 Accuracy: 0.637671976278\n",
            "Epoch 57 Accuracy: 0.651888751298\n",
            "Epoch 58 Accuracy: 0.646383744148\n",
            "Epoch 59 Accuracy: 0.640415939346\n",
            "Epoch 60 Accuracy: 0.638790497065\n",
            "Epoch 61 Accuracy: 0.648235125933\n",
            "Epoch 62 Accuracy: 0.631829061031\n",
            "Epoch 63 Accuracy: 0.630643974179\n",
            "Epoch 64 Accuracy: 0.609494685412\n",
            "Epoch 65 Accuracy: 0.637397654873\n",
            "Epoch 66 Accuracy: 0.644599950923\n",
            "Epoch 67 Accuracy: 0.65022348955\n",
            "Epoch 68 Accuracy: 0.633394770305\n",
            "Epoch 69 Accuracy: 0.636913267696\n",
            "Epoch 70 Accuracy: 0.642941533316\n",
            "Epoch 71 Accuracy: 0.64328115744\n",
            "Epoch 72 Accuracy: 0.649557243583\n",
            "Epoch 73 Accuracy: 0.647217130322\n",
            "Epoch 74 Accuracy: 0.644357721972\n",
            "Epoch 75 Accuracy: 0.637571161993\n",
            "Epoch 76 Accuracy: 0.652157648965\n",
            "Epoch 77 Accuracy: 0.645262241966\n",
            "Epoch 78 Accuracy: 0.642015419736\n",
            "Epoch 79 Accuracy: 0.65223129909\n",
            "Epoch 80 Accuracy: 0.660021081014\n",
            "Epoch 81 Accuracy: 0.639976677372\n",
            "Epoch 82 Accuracy: 0.634505493364\n",
            "Epoch 83 Accuracy: 0.649992416015\n",
            "Epoch 84 Accuracy: 0.653549535785\n",
            "Epoch 85 Accuracy: 0.648509857736\n",
            "Epoch 86 Accuracy: 0.644593597965\n",
            "Epoch 87 Accuracy: 0.641055689131\n",
            "Epoch 88 Accuracy: 0.648040422505\n",
            "Epoch 89 Accuracy: 0.646156610875\n",
            "Epoch 90 Accuracy: 0.652178064204\n",
            "Epoch 91 Accuracy: 0.654194558625\n",
            "Epoch 92 Accuracy: 0.655253663554\n",
            "Epoch 93 Accuracy: 0.656571427632\n",
            "Epoch 94 Accuracy: 0.656146105493\n",
            "Epoch 95 Accuracy: 0.64006160427\n",
            "Epoch 96 Accuracy: 0.645987660317\n",
            "Epoch 97 Accuracy: 0.651202049409\n",
            "Epoch 98 Accuracy: 0.653772184093\n",
            "Epoch 99 Accuracy: 0.640122597667\n",
            "Epoch 100 Accuracy: 0.640816337909\n"
          ],
          "name": "stdout"
        }
      ]
    },
    {
      "cell_type": "code",
      "metadata": {
        "id": "z-utmYAgRWMN"
      },
      "source": [
        "model.save('save3.pkl')"
      ],
      "execution_count": null,
      "outputs": []
    },
    {
      "cell_type": "code",
      "metadata": {
        "id": "5wUVQQl-RWMP"
      },
      "source": [
        "model.load('save3.pkl')"
      ],
      "execution_count": null,
      "outputs": []
    },
    {
      "cell_type": "code",
      "metadata": {
        "id": "C8IaUCBvRWMS",
        "outputId": "1b1fe8e8-494a-439e-d1a8-4450eaff9568",
        "colab": {
          "base_uri": "https://localhost:8080/",
          "height": 34
        }
      },
      "source": [
        "model.test(test_file='resources/trees/dev.txt')"
      ],
      "execution_count": null,
      "outputs": [
        {
          "output_type": "stream",
          "text": [
            "Accuracy: 0.646930727213\n"
          ],
          "name": "stdout"
        }
      ]
    },
    {
      "cell_type": "code",
      "metadata": {
        "id": "8RWn_D4SRWMZ",
        "outputId": "25b45d8a-ff4d-41ba-d15a-b9d5b9583939",
        "colab": {
          "base_uri": "https://localhost:8080/",
          "height": 34
        }
      },
      "source": [
        "model.test(test_file='resources/trees/test.txt')"
      ],
      "execution_count": null,
      "outputs": [
        {
          "output_type": "stream",
          "text": [
            "Accuracy: 0.647488354064\n"
          ],
          "name": "stdout"
        }
      ]
    }
  ]
}