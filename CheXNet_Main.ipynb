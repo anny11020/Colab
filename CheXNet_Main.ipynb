{
  "nbformat": 4,
  "nbformat_minor": 0,
  "metadata": {
    "colab": {
      "provenance": [],
      "include_colab_link": true
    },
    "kernelspec": {
      "name": "python3",
      "display_name": "Python 3"
    }
  },
  "cells": [
    {
      "cell_type": "markdown",
      "metadata": {
        "id": "view-in-github",
        "colab_type": "text"
      },
      "source": [
        "<a href=\"https://colab.research.google.com/github/anny11020/Colab/blob/main/CheXNet_Main.ipynb\" target=\"_parent\"><img src=\"https://colab.research.google.com/assets/colab-badge.svg\" alt=\"Open In Colab\"/></a>"
      ]
    },
    {
      "cell_type": "code",
      "metadata": {
        "id": "gZhtLNkKw7XL"
      },
      "source": [
        "import os\n",
        "import numpy as np\n",
        "import time\n",
        "import sys"
      ],
      "execution_count": null,
      "outputs": []
    },
    {
      "cell_type": "code",
      "metadata": {
        "id": "dCD00LUCYjfU",
        "colab": {
          "base_uri": "https://localhost:8080/",
          "height": 193
        },
        "outputId": "7d4d4fa7-c3cf-4b82-86b9-5bc8a547f9a3"
      },
      "source": [
        "!pip install import-ipynb\n",
        "import import_ipynb\n",
        "# Install the PyDrive wrapper & import libraries.\n",
        "# This only needs to be done once per notebook.\n",
        "!pip install -U -q PyDrive\n",
        "from pydrive.auth import GoogleAuth\n",
        "from pydrive.drive import GoogleDrive\n",
        "from google.colab import auth\n",
        "from oauth2client.client import GoogleCredentials\n",
        "# Authenticate and create the PyDrive client.\n",
        "# This only needs to be done once per notebook.\n",
        "auth.authenticate_user()\n",
        "gauth = GoogleAuth()\n",
        "gauth.credentials = GoogleCredentials.get_application_default()\n",
        "drive = GoogleDrive(gauth)"
      ],
      "execution_count": null,
      "outputs": [
        {
          "output_type": "stream",
          "text": [
            "Collecting import-ipynb\n",
            "  Downloading https://files.pythonhosted.org/packages/63/35/495e0021bfdcc924c7cdec4e9fbb87c88dd03b9b9b22419444dc370c8a45/import-ipynb-0.1.3.tar.gz\n",
            "Building wheels for collected packages: import-ipynb\n",
            "  Building wheel for import-ipynb (setup.py) ... \u001b[?25l\u001b[?25hdone\n",
            "  Created wheel for import-ipynb: filename=import_ipynb-0.1.3-cp36-none-any.whl size=2976 sha256=15cbd3fbb1279f5292f384c142dd643f3ab5657b00d6848987f05e3613b794d4\n",
            "  Stored in directory: /root/.cache/pip/wheels/b4/7b/e9/a3a6e496115dffdb4e3085d0ae39ffe8a814eacc44bbf494b5\n",
            "Successfully built import-ipynb\n",
            "Installing collected packages: import-ipynb\n",
            "Successfully installed import-ipynb-0.1.3\n"
          ],
          "name": "stdout"
        }
      ]
    },
    {
      "cell_type": "code",
      "metadata": {
        "id": "qKDY9UaDYVEG",
        "colab": {
          "base_uri": "https://localhost:8080/",
          "height": 159
        },
        "outputId": "770900cc-fb15-4d8f-f4b5-c6a5da632733"
      },
      "source": [
        "# Copy the link and remove the front part of the link (i.e. https://drive.google.com/open?id=) to get the file ID.\n",
        "module_ChexnetTrainer = drive.CreateFile({'id':'1N5ODE6tBpXT_9cHjePFoPPbbPm3GQ6sx'})\n",
        "module_ChexnetTrainer.GetContentFile('ChexnetTrainer.ipynb')\n",
        "import ChexnetTrainer"
      ],
      "execution_count": null,
      "outputs": [
        {
          "output_type": "stream",
          "text": [
            "importing Jupyter notebook from ChexnetTrainer.ipynb\n",
            "ls: cannot access '/content/drive/My Drive/Colab Notebooks/Pytorch/CheXNet': No such file or directory\n"
          ],
          "name": "stdout"
        },
        {
          "output_type": "stream",
          "text": [
            "/usr/local/lib/python3.6/dist-packages/sklearn/utils/deprecation.py:144: FutureWarning: The sklearn.metrics.ranking module is  deprecated in version 0.22 and will be removed in version 0.24. The corresponding classes / functions should instead be imported from sklearn.metrics. Anything that cannot be imported from sklearn.metrics is now part of the private API.\n",
            "  warnings.warn(message, FutureWarning)\n"
          ],
          "name": "stderr"
        },
        {
          "output_type": "stream",
          "text": [
            "Requirement already satisfied: import-ipynb in /usr/local/lib/python3.6/dist-packages (0.1.3)\n",
            "importing Jupyter notebook from DensenetModels.ipynb\n",
            "importing Jupyter notebook from DatasetGenerator.ipynb\n"
          ],
          "name": "stdout"
        }
      ]
    },
    {
      "cell_type": "code",
      "metadata": {
        "id": "Gvpqtsw3YFQy"
      },
      "source": [
        "from ChexnetTrainer import ChexnetTrainer"
      ],
      "execution_count": null,
      "outputs": []
    },
    {
      "cell_type": "code",
      "metadata": {
        "id": "WUxzWVc7YFTe"
      },
      "source": [
        "def main ():\n",
        "    runTrain()"
      ],
      "execution_count": null,
      "outputs": []
    },
    {
      "cell_type": "code",
      "metadata": {
        "id": "FEFJ9FfGYFWN"
      },
      "source": [
        "def runTrain():\n",
        "\n",
        "    DENSENET121 = 'DENSE-NET-121'\n",
        "    DENSENET169 = 'DENSE-NET-169'\n",
        "    DENSENET201 = 'DENSE-NET-201'\n",
        "\n",
        "    timestampTime = time.strftime(\"%H%M%S\")\n",
        "    timestampDate = time.strftime(\"%d%m%Y\")\n",
        "    timestampLaunch = timestampDate + '-' + timestampTime\n",
        "\n",
        "    #---- Path to the directory with images\n",
        "    pathDirData = '/content/drive/My Drive/NEW/NTUST/醫療Dataset/5839_18613_bundle_archive'\n",
        "\n",
        "    #---- Paths to the files with training, validation and testing sets.\n",
        "    #---- Each file should contains pairs [path to image, output vector]\n",
        "    #---- Example: images_011/00027736_001.png 0 0 0 0 0 0 0 0 0 0 0 0 0 0\n",
        "    pathFileTrain = './dataset/train_1.txt'\n",
        "    pathFileVal = './dataset/val_1.txt'\n",
        "    pathFileTest = './dataset/test_1.txt'\n",
        "\n",
        "    #---- Neural network parameters: type of the network, is it pre-trained\n",
        "    #---- on imagenet, number of classes\n",
        "    nnArchitecture = DENSENET121\n",
        "    nnIsTrained = True\n",
        "    nnClassCount = 14\n",
        "\n",
        "    #---- Training settings: batch size, maximum number of epochs\n",
        "    trBatchSize = 16\n",
        "    trMaxEpoch = 100\n",
        "\n",
        "    #---- Parameters related to image transforms: size of the down-scaled image, cropped image\n",
        "    imgtransResize = 256\n",
        "    imgtransCrop = 224\n",
        "\n",
        "    pathModel = 'm-' + timestampLaunch + '.pth.tar'\n",
        "\n",
        "    print ('Training NN architecture = ', nnArchitecture)\n",
        "    ChexnetTrainer.train(pathDirData, pathFileTrain, pathFileVal, nnArchitecture, nnIsTrained, nnClassCount, trBatchSize, trMaxEpoch, imgtransResize, imgtransCrop, timestampLaunch, None)\n",
        "\n",
        "    print ('Testing the trained model')\n",
        "    ChexnetTrainer.test(pathDirData, pathFileTest, pathModel, nnArchitecture, nnClassCount, nnIsTrained, trBatchSize, imgtransResize, imgtransCrop, timestampLaunch)"
      ],
      "execution_count": null,
      "outputs": []
    },
    {
      "cell_type": "code",
      "metadata": {
        "id": "OG-Hwpf3YFZL"
      },
      "source": [
        "def runTest():\n",
        "\n",
        "    pathDirData = '/content/drive/My Drive/NEW/NTUST/醫療Dataset/5839_18613_bundle_archive'\n",
        "    pathFileTest = './dataset/test_1.txt'\n",
        "    nnArchitecture = 'DENSE-NET-121'\n",
        "    nnIsTrained = True\n",
        "    nnClassCount = 14\n",
        "    trBatchSize = 16\n",
        "    imgtransResize = 256\n",
        "    imgtransCrop = 224\n",
        "\n",
        "    pathModel = './models/m-25012018-123527.pth.tar'\n",
        "\n",
        "    timestampLaunch = ''\n",
        "\n",
        "    ChexnetTrainer.test(pathDirData, pathFileTest, pathModel, nnArchitecture, nnClassCount, nnIsTrained, trBatchSize, imgtransResize, imgtransCrop, timestampLaunch)\n"
      ],
      "execution_count": null,
      "outputs": []
    },
    {
      "cell_type": "code",
      "metadata": {
        "id": "FlpnVa-DYFbt"
      },
      "source": [
        "if __name__ == '__main__':\n",
        "    main()"
      ],
      "execution_count": null,
      "outputs": []
    },
    {
      "cell_type": "code",
      "metadata": {
        "id": "vaijgpR0y5SP"
      },
      "source": [],
      "execution_count": null,
      "outputs": []
    }
  ]
}